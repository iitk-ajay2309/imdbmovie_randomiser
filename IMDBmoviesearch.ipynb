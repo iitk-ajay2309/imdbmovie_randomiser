{
 "cells": [
  {
   "cell_type": "code",
   "execution_count": 1,
   "id": "e425ad66",
   "metadata": {},
   "outputs": [],
   "source": [
    "import random  #.choice, .#.randint(s,e), .random(), \n",
    "from bs4 import BeautifulSoup\n",
    "import requests\n",
    "\n",
    "import pandas as pd\n",
    "\n",
    "#genre = []\n"
   ]
  },
  {
   "cell_type": "code",
   "execution_count": 2,
   "id": "1fe02a3a",
   "metadata": {},
   "outputs": [],
   "source": [
    "#create a text file with the info recieved and retrive it with html parser\n",
    "\n",
    "def get_movie_titles(doc):\n",
    "\n",
    "    selection_class=\"lister-item-header\"\n",
    "    movie_title_tags=doc.find_all('h3',{'class':selection_class})\n",
    "    movie_titles=[]\n",
    "\n",
    "    for tag in movie_title_tags:\n",
    "        title = tag.find('a').text\n",
    "        movie_titles.append(title)\n",
    "\n",
    "\n",
    "    return movie_titles\n",
    "def get_movie_year(doc):\n",
    "    year_selector = \"lister-item-year text-muted unbold\"           \n",
    "    movie_year_tags=doc.find_all('span',{'class':year_selector})\n",
    "    movie_year_tagss=[]\n",
    "    for tag in movie_year_tags:\n",
    "        movie_year_tagss.append(tag.get_text().strip()[1:5])\n",
    "    return movie_year_tagss\n",
    "\n",
    "def get_movie_rating(doc):\n",
    "    rating_selector=\"inline-block ratings-imdb-rating\"            \n",
    "    movie_rating_tags=doc.find_all('div',{'class':rating_selector})\n",
    "    movie_rating_tagss=[]\n",
    "    for tag in movie_rating_tags:\n",
    "        movie_rating_tagss.append(tag.get_text().strip())\n",
    "    return movie_rating_tagss\n",
    "\n",
    "def get_movie_duration(doc):\n",
    "\n",
    "    selection_class=\"runtime\"\n",
    "    movie_duration_tags=doc.find_all('span',{'class':selection_class})\n",
    "    movie_duration=[]\n",
    "\n",
    "    for tag in movie_duration_tags:\n",
    "        duration = tag.text[:-4]\n",
    "        movie_duration.append(duration)\n",
    "\n",
    "\n",
    "    return movie_duration\n",
    "\n",
    "def get_movie_genre(doc):\n",
    "    selection_class=\"genre\"\n",
    "    movie_genre_tags=doc.find_all('span',{'class':selection_class})\n",
    "    movie_genre=[]\n",
    "\n",
    "    for tag in movie_genre_tags:\n",
    "        genre = str(tag.text[1:]).rstrip()\n",
    "        movie_genre.append(genre)\n",
    "\n",
    "\n",
    "    return movie_genre\n"
   ]
  },
  {
   "cell_type": "code",
   "execution_count": null,
   "id": "d1f5110b",
   "metadata": {},
   "outputs": [],
   "source": []
  },
  {
   "cell_type": "code",
   "execution_count": 3,
   "id": "312e9688",
   "metadata": {},
   "outputs": [],
   "source": [
    "#working with pandas to create a database:\n",
    "def all_pages(firstpageurl):\n",
    "# Let's we create a dictionary to store data of all movies\n",
    "    movies_dict={\n",
    "        'title':[],\n",
    "        'genre':[],\n",
    "        'duration':[],\n",
    "        'rating':[],\n",
    "        'year':[],\n",
    "        }\n",
    "  # We have to scrap more than one page so we want urls of all pages with the help of loop we can get all urls\n",
    "    for i in range(1,2000,100):\n",
    "       \n",
    "        try:\n",
    "            url = firstpageurl+str(i)+'&ref_=adv_next'\n",
    "            response = requests.get(url)\n",
    "        except:\n",
    "            break\n",
    "        \n",
    "        if response.status_code != 200:\n",
    "            break\n",
    "           \n",
    "    # Parse using BeautifulSoup\n",
    "        doc = BeautifulSoup(response.text, 'html.parser') #this is perfect\n",
    "        titles = get_movie_titles(doc)\n",
    "        #urls = get_movie_url(doc)\n",
    "        #certifications = get_movie_certification(doc)\n",
    "        ratings = get_movie_rating(doc)\n",
    "        durations = get_movie_duration(doc)\n",
    "        years = get_movie_year(doc)\n",
    "        genres = get_movie_genre(doc)\n",
    "    \n",
    "        \n",
    "    # We are adding every movie data to dictionary\n",
    "        for i in range(len(titles)):\n",
    "            movies_dict['title'].append(titles[i])\n",
    "            movies_dict['genre'].append(genres[i])\n",
    "            movies_dict['duration'].append(durations[i])\n",
    "            movies_dict['rating'].append(ratings[i])\n",
    "            movies_dict['year'].append(years[i])\n",
    "            \n",
    "        \n",
    "    return (movies_dict)"
   ]
  },
  {
   "cell_type": "code",
   "execution_count": 4,
   "id": "fddd53c3",
   "metadata": {},
   "outputs": [],
   "source": [
    "allpage_url= 'https://www.imdb.com/search/title/?groups=top_1000&sort=user_rating,desc&count=100&start='\n",
    "moviestable= all_pages(allpage_url)\n",
    "\n",
    "df= pd.DataFrame(moviestable)\n",
    "#df.head()"
   ]
  },
  {
   "cell_type": "code",
   "execution_count": 5,
   "id": "9615924c",
   "metadata": {},
   "outputs": [],
   "source": [
    "#mood= ['Bored', 'Excited', 'Happy', 'Sad', 'Meh']\n",
    "string_of_genres= 'Action Adventure Animation Biography Comedy Crime Documentary Drama Family Fantasy Film Noir History Horror Music Musical Mystery Romance SciFi Short Sport Superhero Thriller War Western'\n",
    "genre= string_of_genres.split()\n",
    "#genre\n",
    "#len(genre)"
   ]
  },
  {
   "cell_type": "code",
   "execution_count": 34,
   "id": "05358126",
   "metadata": {},
   "outputs": [
    {
     "name": "stdout",
     "output_type": "stream",
     "text": [
      "{1: 'Action', 2: 'Adventure', 3: 'Animation', 4: 'Biography', 5: 'Comedy', 6: 'Crime', 7: 'Documentary', 8: 'Drama', 9: 'Family', 10: 'Fantasy', 11: 'Film', 12: 'Noir', 13: 'History', 14: 'Horror', 15: 'Music', 16: 'Musical', 17: 'Mystery', 18: 'Romance', 19: 'SciFi', 20: 'Short', 21: 'Sport', 22: 'Superhero', 23: 'Thriller', 24: 'War', 25: 'Western'}\n",
      "please enter the digit corresponding to a particular genre to watch a great movie1\n"
     ]
    }
   ],
   "source": [
    "\n",
    "indeces= [i for i in range(1,len(genre)+1)]\n",
    "genre_dict= dict(zip(indeces, genre))\n",
    "print(genre_dict)\n",
    "enteredindex= int(input(\"please enter the digit corresponding to a particular genre to watch a great movie\"))\n",
    "\n",
    "ofgenre= df[df['genre'].str.contains(genre_dict[enteredindex])]\n",
    "#ofgenre\n"
   ]
  },
  {
   "cell_type": "code",
   "execution_count": 39,
   "id": "4608a7e2",
   "metadata": {},
   "outputs": [
    {
     "name": "stdout",
     "output_type": "stream",
     "text": [
      "Hera Pheri\n"
     ]
    }
   ],
   "source": [
    "moviesname= [ofgenre['title']]\n",
    "\n",
    "movieslist = moviesname[0].tolist()\n",
    "print(random.choice(movieslist))\n",
    "#moviesname[0]\n"
   ]
  }
 ],
 "metadata": {
  "kernelspec": {
   "display_name": "Python 3 (ipykernel)",
   "language": "python",
   "name": "python3"
  },
  "language_info": {
   "codemirror_mode": {
    "name": "ipython",
    "version": 3
   },
   "file_extension": ".py",
   "mimetype": "text/x-python",
   "name": "python",
   "nbconvert_exporter": "python",
   "pygments_lexer": "ipython3",
   "version": "3.10.6"
  }
 },
 "nbformat": 4,
 "nbformat_minor": 5
}
